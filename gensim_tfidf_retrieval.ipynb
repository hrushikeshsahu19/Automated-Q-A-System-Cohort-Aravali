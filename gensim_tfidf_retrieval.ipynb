{
  "nbformat": 4,
  "nbformat_minor": 5,
  "metadata": {
    "kernelspec": {
      "display_name": "Python 3",
      "language": "python",
      "name": "python3"
    },
    "language_info": {
      "codemirror_mode": {
        "name": "ipython",
        "version": 3
      },
      "file_extension": ".py",
      "mimetype": "text/x-python",
      "name": "python",
      "nbconvert_exporter": "python",
      "pygments_lexer": "ipython3",
      "version": "3.7.10"
    },
    "papermill": {
      "default_parameters": {},
      "duration": 68.652079,
      "end_time": "2021-04-30T18:21:23.935649",
      "environment_variables": {},
      "exception": null,
      "input_path": "__notebook__.ipynb",
      "output_path": "__notebook__.ipynb",
      "parameters": {},
      "start_time": "2021-04-30T18:20:15.283570",
      "version": "2.3.3"
    },
    "colab": {
      "name": "gensim-tfidf-retrieval.ipynb",
      "provenance": [],
      "include_colab_link": true
    }
  },
  "cells": [
    {
      "cell_type": "markdown",
      "metadata": {
        "id": "view-in-github",
        "colab_type": "text"
      },
      "source": [
        "<a href=\"https://colab.research.google.com/github/kronze1996/Automated-Q-A-System/blob/main/gensim_tfidf_retrieval.ipynb\" target=\"_parent\"><img src=\"https://colab.research.google.com/assets/colab-badge.svg\" alt=\"Open In Colab\"/></a>"
      ]
    },
    {
      "cell_type": "markdown",
      "metadata": {
        "papermill": {
          "duration": 0.01738,
          "end_time": "2021-04-30T18:20:24.050681",
          "exception": false,
          "start_time": "2021-04-30T18:20:24.033301",
          "status": "completed"
        },
        "tags": [],
        "id": "public-hacker"
      },
      "source": [
        "## TFIDF based retrial using gensim\n",
        "\n",
        "This notebook defines the **gensim-based document retrieval method based on tf-idf similarity score** (between corpus documents and the query string).\n",
        "\n",
        "1. Cleanup / preprocess \n",
        "2. Define dictionary\n",
        "3. Transform corpus - Bag of Worgs\n",
        "4. Learn tfidf vectors for corpus\n",
        "5. Sparse matrix indexing for similarity scoring\n",
        "6. Retrieve top N document for the given query string"
      ],
      "id": "public-hacker"
    },
    {
      "cell_type": "code",
      "metadata": {
        "_cell_guid": "b1076dfc-b9ad-4769-8c92-a6c4dae69d19",
        "_uuid": "8f2839f25d086af736a60e9eeb907d3b93b6e0e5",
        "execution": {
          "iopub.execute_input": "2021-04-30T18:20:24.098026Z",
          "iopub.status.busy": "2021-04-30T18:20:24.093430Z",
          "iopub.status.idle": "2021-04-30T18:20:24.101578Z",
          "shell.execute_reply": "2021-04-30T18:20:24.100883Z"
        },
        "papermill": {
          "duration": 0.034542,
          "end_time": "2021-04-30T18:20:24.101764",
          "exception": false,
          "start_time": "2021-04-30T18:20:24.067222",
          "status": "completed"
        },
        "tags": [],
        "id": "convinced-elimination"
      },
      "source": [
        "import numpy as np # linear algebra\n",
        "import pandas as pd # data processing, CSV file I/O (e.g. pd.read_csv)\n",
        "import os, sys"
      ],
      "id": "convinced-elimination",
      "execution_count": null,
      "outputs": []
    },
    {
      "cell_type": "code",
      "metadata": {
        "execution": {
          "iopub.execute_input": "2021-04-30T18:20:24.140754Z",
          "iopub.status.busy": "2021-04-30T18:20:24.139996Z",
          "iopub.status.idle": "2021-04-30T18:20:25.514423Z",
          "shell.execute_reply": "2021-04-30T18:20:25.513835Z"
        },
        "papermill": {
          "duration": 1.396227,
          "end_time": "2021-04-30T18:20:25.514586",
          "exception": false,
          "start_time": "2021-04-30T18:20:24.118359",
          "status": "completed"
        },
        "tags": [],
        "id": "aware-newark"
      },
      "source": [
        "from sklearn.datasets import fetch_20newsgroups\n",
        "from gensim import corpora\n",
        "from gensim.parsing import strip_tags, strip_numeric, \\\n",
        "    strip_multiple_whitespaces, stem_text, strip_punctuation, \\\n",
        "    remove_stopwords, preprocess_string\n",
        "import pprint\n",
        "import re"
      ],
      "id": "aware-newark",
      "execution_count": null,
      "outputs": []
    },
    {
      "cell_type": "code",
      "metadata": {
        "colab": {
          "base_uri": "https://localhost:8080/"
        },
        "id": "KPmPvHAwenJx",
        "outputId": "068eeedf-1e24-4da2-c815-a3363e259ce7"
      },
      "source": [
        "# Import modules needed for this project\n",
        "!pip install pdfplumber\n",
        "import pdfplumber"
      ],
      "id": "KPmPvHAwenJx",
      "execution_count": null,
      "outputs": [
        {
          "output_type": "stream",
          "text": [
            "Collecting pdfplumber\n",
            "\u001b[?25l  Downloading https://files.pythonhosted.org/packages/7e/57/4d9768e9ed204c68bd5813a2a112d3d6af4912f0785d47080b5067cdce64/pdfplumber-0.5.27.tar.gz (44kB)\n",
            "\u001b[K     |████████████████████████████████| 51kB 3.4MB/s \n",
            "\u001b[?25hCollecting pdfminer.six==20200517\n",
            "\u001b[?25l  Downloading https://files.pythonhosted.org/packages/b0/c0/ef1c8758bbd86edb10b5443700aac97d0ba27a9ca2e7696db8cd1fdbd5a8/pdfminer.six-20200517-py3-none-any.whl (5.6MB)\n",
            "\u001b[K     |████████████████████████████████| 5.6MB 10.2MB/s \n",
            "\u001b[?25hRequirement already satisfied: Pillow>=7.0.0 in /usr/local/lib/python3.7/dist-packages (from pdfplumber) (7.1.2)\n",
            "Collecting Wand\n",
            "\u001b[?25l  Downloading https://files.pythonhosted.org/packages/d7/f6/05f043c099639b9017b7244791048a4d146dfea45b41a199aed373246d50/Wand-0.6.6-py2.py3-none-any.whl (138kB)\n",
            "\u001b[K     |████████████████████████████████| 143kB 21.0MB/s \n",
            "\u001b[?25hCollecting pycryptodome\n",
            "\u001b[?25l  Downloading https://files.pythonhosted.org/packages/ad/16/9627ab0493894a11c68e46000dbcc82f578c8ff06bc2980dcd016aea9bd3/pycryptodome-3.10.1-cp35-abi3-manylinux2010_x86_64.whl (1.9MB)\n",
            "\u001b[K     |████████████████████████████████| 1.9MB 45.3MB/s \n",
            "\u001b[?25hRequirement already satisfied: chardet; python_version > \"3.0\" in /usr/local/lib/python3.7/dist-packages (from pdfminer.six==20200517->pdfplumber) (3.0.4)\n",
            "Requirement already satisfied: sortedcontainers in /usr/local/lib/python3.7/dist-packages (from pdfminer.six==20200517->pdfplumber) (2.3.0)\n",
            "Building wheels for collected packages: pdfplumber\n",
            "  Building wheel for pdfplumber (setup.py) ... \u001b[?25l\u001b[?25hdone\n",
            "  Created wheel for pdfplumber: filename=pdfplumber-0.5.27-cp37-none-any.whl size=32071 sha256=e1c1e8b2579a9a7dbcb32e40af3b98034144a21e642af901a247470868efa09d\n",
            "  Stored in directory: /root/.cache/pip/wheels/b4/74/fc/f7b3a1a0732209027fb48a5f4392fc40d79970b11c2ba49e71\n",
            "Successfully built pdfplumber\n",
            "Installing collected packages: pycryptodome, pdfminer.six, Wand, pdfplumber\n",
            "Successfully installed Wand-0.6.6 pdfminer.six-20200517 pdfplumber-0.5.27 pycryptodome-3.10.1\n"
          ],
          "name": "stdout"
        }
      ]
    },
    {
      "cell_type": "code",
      "metadata": {
        "colab": {
          "base_uri": "https://localhost:8080/"
        },
        "id": "3xlrFdJCezee",
        "outputId": "7dfe0278-7862-4968-a0fc-1c662d8b9401"
      },
      "source": [
        "from google.colab import drive\n",
        "drive.mount('/content/drive')"
      ],
      "id": "3xlrFdJCezee",
      "execution_count": null,
      "outputs": [
        {
          "output_type": "stream",
          "text": [
            "Drive already mounted at /content/drive; to attempt to forcibly remount, call drive.mount(\"/content/drive\", force_remount=True).\n"
          ],
          "name": "stdout"
        }
      ]
    },
    {
      "cell_type": "code",
      "metadata": {
        "id": "r6UfGPzeeZb1"
      },
      "source": [
        "infile= '/content/drive/MyDrive/AlmaBetter/Cohort Aravali/Module 8/Q A System Building/Automated Q_A PDFs/Applied Data Science.pdf'\n",
        "pgList=[]\n",
        "with pdfplumber.open(infile) as pdf:\n",
        "  totalpages = len (pdf.pages)\n",
        "  for i in range(0,totalpages):\n",
        "    page = pdf.pages[i]\n",
        "    row = page.extract_text()\n",
        "    pgList.append(row)"
      ],
      "id": "r6UfGPzeeZb1",
      "execution_count": null,
      "outputs": []
    },
    {
      "cell_type": "code",
      "metadata": {
        "execution": {
          "iopub.execute_input": "2021-04-30T18:20:38.074844Z",
          "iopub.status.busy": "2021-04-30T18:20:38.073872Z",
          "iopub.status.idle": "2021-04-30T18:20:38.077187Z",
          "shell.execute_reply": "2021-04-30T18:20:38.077721Z"
        },
        "papermill": {
          "duration": 0.024628,
          "end_time": "2021-04-30T18:20:38.077899",
          "exception": false,
          "start_time": "2021-04-30T18:20:38.053271",
          "status": "completed"
        },
        "tags": [],
        "id": "smoking-programmer"
      },
      "source": [
        "# collect all text documents as list\n",
        "text_docs = pgList"
      ],
      "id": "smoking-programmer",
      "execution_count": null,
      "outputs": []
    },
    {
      "cell_type": "code",
      "metadata": {
        "colab": {
          "base_uri": "https://localhost:8080/",
          "height": 35
        },
        "id": "qOWJgZOtfr76",
        "outputId": "036fafe9-64d6-4ccd-aad9-4f0cd27e70cb"
      },
      "source": [
        "text_docs[0]"
      ],
      "id": "qOWJgZOtfr76",
      "execution_count": null,
      "outputs": [
        {
          "output_type": "execute_result",
          "data": {
            "application/vnd.google.colaboratory.intrinsic+json": {
              "type": "string"
            },
            "text/plain": [
              "'Applied Data Science\\nIan Langmore Daniel Krasner'"
            ]
          },
          "metadata": {
            "tags": []
          },
          "execution_count": 15
        }
      ]
    },
    {
      "cell_type": "markdown",
      "metadata": {
        "papermill": {
          "duration": 0.015551,
          "end_time": "2021-04-30T18:20:38.110400",
          "exception": false,
          "start_time": "2021-04-30T18:20:38.094849",
          "status": "completed"
        },
        "tags": [],
        "id": "sitting-editor"
      },
      "source": [
        "### Preprocess the text corpus"
      ],
      "id": "sitting-editor"
    },
    {
      "cell_type": "code",
      "metadata": {
        "execution": {
          "iopub.execute_input": "2021-04-30T18:20:38.146073Z",
          "iopub.status.busy": "2021-04-30T18:20:38.145419Z",
          "iopub.status.idle": "2021-04-30T18:20:38.154895Z",
          "shell.execute_reply": "2021-04-30T18:20:38.153701Z"
        },
        "papermill": {
          "duration": 0.028456,
          "end_time": "2021-04-30T18:20:38.155136",
          "exception": false,
          "start_time": "2021-04-30T18:20:38.126680",
          "status": "completed"
        },
        "tags": [],
        "colab": {
          "base_uri": "https://localhost:8080/"
        },
        "id": "sharp-circumstances",
        "outputId": "882725ca-40f9-415e-e17c-413c10a385fc"
      },
      "source": [
        "# preprocess using gensim.parsing\n",
        "# ref: https://www.kaggle.com/venkatkrishnan/gensim-text-mining-techniques\n",
        "transform_to_lower = lambda s: s.lower()\n",
        "\n",
        "remove_single_char = lambda s: re.sub(r'\\s+\\w{1}\\s+', '', s)\n",
        "\n",
        "# Filters to be executed in pipeline\n",
        "CLEAN_FILTERS = [strip_tags,\n",
        "                strip_numeric,\n",
        "                strip_punctuation, \n",
        "                strip_multiple_whitespaces, \n",
        "                transform_to_lower,\n",
        "                remove_stopwords,\n",
        "                remove_single_char]\n",
        "\n",
        "# Method does the filtering of all the unrelevant text elements\n",
        "def cleaning_pipe(document):\n",
        "    # Invoking gensim.parsing.preprocess_string method with set of filters\n",
        "    processed_words = preprocess_string(document, CLEAN_FILTERS)\n",
        "    \n",
        "    return processed_words\n",
        "print(cleaning_pipe(text_docs[0]))"
      ],
      "id": "sharp-circumstances",
      "execution_count": null,
      "outputs": [
        {
          "output_type": "stream",
          "text": [
            "['applied', 'data', 'science', 'ian', 'langmore', 'daniel', 'krasner']\n"
          ],
          "name": "stdout"
        }
      ]
    },
    {
      "cell_type": "markdown",
      "metadata": {
        "papermill": {
          "duration": 0.016234,
          "end_time": "2021-04-30T18:20:38.190271",
          "exception": false,
          "start_time": "2021-04-30T18:20:38.174037",
          "status": "completed"
        },
        "tags": [],
        "id": "cleared-tunnel"
      },
      "source": [
        "### Define corpus dictionary"
      ],
      "id": "cleared-tunnel"
    },
    {
      "cell_type": "code",
      "metadata": {
        "execution": {
          "iopub.execute_input": "2021-04-30T18:20:38.226547Z",
          "iopub.status.busy": "2021-04-30T18:20:38.225832Z",
          "iopub.status.idle": "2021-04-30T18:20:38.230777Z",
          "shell.execute_reply": "2021-04-30T18:20:38.231279Z"
        },
        "papermill": {
          "duration": 0.024802,
          "end_time": "2021-04-30T18:20:38.231467",
          "exception": false,
          "start_time": "2021-04-30T18:20:38.206665",
          "status": "completed"
        },
        "tags": [],
        "id": "assisted-statistics"
      },
      "source": [
        "def create_dictionary(docs):\n",
        "    'create dictionary of words in preprocessed corpus'\n",
        "    pdocs = [cleaning_pipe(doc) for doc in docs]\n",
        "    dictionary = corpora.Dictionary(pdocs)\n",
        "    dictionary.save('newsgroup.dict')\n",
        "    return dictionary,pdocs"
      ],
      "id": "assisted-statistics",
      "execution_count": null,
      "outputs": []
    },
    {
      "cell_type": "code",
      "metadata": {
        "execution": {
          "iopub.execute_input": "2021-04-30T18:20:38.308048Z",
          "iopub.status.busy": "2021-04-30T18:20:38.297010Z",
          "iopub.status.idle": "2021-04-30T18:21:00.173018Z",
          "shell.execute_reply": "2021-04-30T18:21:00.172473Z"
        },
        "papermill": {
          "duration": 21.923606,
          "end_time": "2021-04-30T18:21:00.173187",
          "exception": false,
          "start_time": "2021-04-30T18:20:38.249581",
          "status": "completed"
        },
        "tags": [],
        "id": "destroyed-sarah"
      },
      "source": [
        "dictionary, pdocs = create_dictionary(text_docs)"
      ],
      "id": "destroyed-sarah",
      "execution_count": null,
      "outputs": []
    },
    {
      "cell_type": "code",
      "metadata": {
        "execution": {
          "iopub.execute_input": "2021-04-30T18:21:00.214815Z",
          "iopub.status.busy": "2021-04-30T18:21:00.214194Z",
          "iopub.status.idle": "2021-04-30T18:21:00.216938Z",
          "shell.execute_reply": "2021-04-30T18:21:00.217430Z"
        },
        "papermill": {
          "duration": 0.026582,
          "end_time": "2021-04-30T18:21:00.217592",
          "exception": false,
          "start_time": "2021-04-30T18:21:00.191010",
          "status": "completed"
        },
        "tags": [],
        "colab": {
          "base_uri": "https://localhost:8080/"
        },
        "id": "secondary-psychiatry",
        "outputId": "f5a8ed77-2179-476a-eb40-a88edd510ae0"
      },
      "source": [
        "len(dictionary)"
      ],
      "id": "secondary-psychiatry",
      "execution_count": null,
      "outputs": [
        {
          "output_type": "execute_result",
          "data": {
            "text/plain": [
              "4835"
            ]
          },
          "metadata": {
            "tags": []
          },
          "execution_count": 19
        }
      ]
    },
    {
      "cell_type": "markdown",
      "metadata": {
        "papermill": {
          "duration": 0.016716,
          "end_time": "2021-04-30T18:21:00.251444",
          "exception": false,
          "start_time": "2021-04-30T18:21:00.234728",
          "status": "completed"
        },
        "tags": [],
        "id": "rental-mobility"
      },
      "source": [
        "- dictionary is huge in size (177k unique words - 177k dimensions) but gensim will be able to manage it efficiently."
      ],
      "id": "rental-mobility"
    },
    {
      "cell_type": "markdown",
      "metadata": {
        "papermill": {
          "duration": 0.01668,
          "end_time": "2021-04-30T18:21:00.285116",
          "exception": false,
          "start_time": "2021-04-30T18:21:00.268436",
          "status": "completed"
        },
        "tags": [],
        "id": "innovative-remark"
      },
      "source": [
        "### Transform any sample document as per the known dictionary"
      ],
      "id": "innovative-remark"
    },
    {
      "cell_type": "code",
      "metadata": {
        "execution": {
          "iopub.execute_input": "2021-04-30T18:21:00.322081Z",
          "iopub.status.busy": "2021-04-30T18:21:00.321484Z",
          "iopub.status.idle": "2021-04-30T18:21:00.328549Z",
          "shell.execute_reply": "2021-04-30T18:21:00.328018Z"
        },
        "papermill": {
          "duration": 0.026703,
          "end_time": "2021-04-30T18:21:00.328714",
          "exception": false,
          "start_time": "2021-04-30T18:21:00.302011",
          "status": "completed"
        },
        "tags": [],
        "colab": {
          "base_uri": "https://localhost:8080/"
        },
        "id": "recognized-action",
        "outputId": "5c322eab-0402-444c-c38d-9d5f7b4d511a"
      },
      "source": [
        "new_doc = \"Human computer interaction\"\n",
        "new_vec = dictionary.doc2bow(cleaning_pipe(new_doc))\n",
        "print(new_vec)"
      ],
      "id": "recognized-action",
      "execution_count": null,
      "outputs": [
        {
          "output_type": "stream",
          "text": [
            "[(460, 1), (898, 1)]\n"
          ],
          "name": "stdout"
        }
      ]
    },
    {
      "cell_type": "markdown",
      "metadata": {
        "papermill": {
          "duration": 0.017222,
          "end_time": "2021-04-30T18:21:00.363710",
          "exception": false,
          "start_time": "2021-04-30T18:21:00.346488",
          "status": "completed"
        },
        "tags": [],
        "id": "meaningful-mouse"
      },
      "source": [
        "### Transform complete corpus as BoW"
      ],
      "id": "meaningful-mouse"
    },
    {
      "cell_type": "code",
      "metadata": {
        "execution": {
          "iopub.execute_input": "2021-04-30T18:21:00.443452Z",
          "iopub.status.busy": "2021-04-30T18:21:00.438383Z",
          "iopub.status.idle": "2021-04-30T18:21:02.905667Z",
          "shell.execute_reply": "2021-04-30T18:21:02.904963Z"
        },
        "papermill": {
          "duration": 2.524418,
          "end_time": "2021-04-30T18:21:02.905810",
          "exception": false,
          "start_time": "2021-04-30T18:21:00.381392",
          "status": "completed"
        },
        "tags": [],
        "id": "protected-devon"
      },
      "source": [
        "bow_corpus = [dictionary.doc2bow(text) for text in pdocs]"
      ],
      "id": "protected-devon",
      "execution_count": null,
      "outputs": []
    },
    {
      "cell_type": "markdown",
      "metadata": {
        "papermill": {
          "duration": 0.018196,
          "end_time": "2021-04-30T18:21:02.942450",
          "exception": false,
          "start_time": "2021-04-30T18:21:02.924254",
          "status": "completed"
        },
        "tags": [],
        "id": "activated-rebound"
      },
      "source": [
        "### Fit the tfidf model a.k.a tfidf vectorizer"
      ],
      "id": "activated-rebound"
    },
    {
      "cell_type": "code",
      "metadata": {
        "execution": {
          "iopub.execute_input": "2021-04-30T18:21:02.988769Z",
          "iopub.status.busy": "2021-04-30T18:21:02.983362Z",
          "iopub.status.idle": "2021-04-30T18:21:04.304577Z",
          "shell.execute_reply": "2021-04-30T18:21:04.305070Z"
        },
        "papermill": {
          "duration": 1.344559,
          "end_time": "2021-04-30T18:21:04.305274",
          "exception": false,
          "start_time": "2021-04-30T18:21:02.960715",
          "status": "completed"
        },
        "tags": [],
        "id": "federal-holocaust"
      },
      "source": [
        "from gensim import models\n",
        "\n",
        "# train the model\n",
        "tfidf = models.TfidfModel(bow_corpus)"
      ],
      "id": "federal-holocaust",
      "execution_count": null,
      "outputs": []
    },
    {
      "cell_type": "code",
      "metadata": {
        "execution": {
          "iopub.execute_input": "2021-04-30T18:21:04.344434Z",
          "iopub.status.busy": "2021-04-30T18:21:04.343803Z",
          "iopub.status.idle": "2021-04-30T18:21:04.350541Z",
          "shell.execute_reply": "2021-04-30T18:21:04.349900Z"
        },
        "papermill": {
          "duration": 0.027305,
          "end_time": "2021-04-30T18:21:04.350677",
          "exception": false,
          "start_time": "2021-04-30T18:21:04.323372",
          "status": "completed"
        },
        "tags": [],
        "colab": {
          "base_uri": "https://localhost:8080/"
        },
        "id": "revised-mortality",
        "outputId": "70f80030-d052-46d7-e768-6ac6c1dcdbd1"
      },
      "source": [
        "# transform any new document as tfidf vector\n",
        "words = cleaning_pipe(\"want to sell bike\")\n",
        "print(tfidf[dictionary.doc2bow(words)])"
      ],
      "id": "revised-mortality",
      "execution_count": null,
      "outputs": [
        {
          "output_type": "stream",
          "text": [
            "[(721, 1.0)]\n"
          ],
          "name": "stdout"
        }
      ]
    },
    {
      "cell_type": "markdown",
      "metadata": {
        "papermill": {
          "duration": 0.017949,
          "end_time": "2021-04-30T18:21:04.386997",
          "exception": false,
          "start_time": "2021-04-30T18:21:04.369048",
          "status": "completed"
        },
        "tags": [],
        "id": "above-greenhouse"
      },
      "source": [
        "## Sparse matrix indexing for similarity scoring"
      ],
      "id": "above-greenhouse"
    },
    {
      "cell_type": "code",
      "metadata": {
        "execution": {
          "iopub.execute_input": "2021-04-30T18:21:04.465744Z",
          "iopub.status.busy": "2021-04-30T18:21:04.444975Z",
          "iopub.status.idle": "2021-04-30T18:21:22.653701Z",
          "shell.execute_reply": "2021-04-30T18:21:22.653136Z"
        },
        "papermill": {
          "duration": 18.248319,
          "end_time": "2021-04-30T18:21:22.653871",
          "exception": false,
          "start_time": "2021-04-30T18:21:04.405552",
          "status": "completed"
        },
        "tags": [],
        "id": "selective-mandate"
      },
      "source": [
        "# index the tfidf vector of corpus as sparse matrix\n",
        "from gensim import similarities\n",
        "index = similarities.SparseMatrixSimilarity(tfidf[bow_corpus], num_features=len(dictionary))"
      ],
      "id": "selective-mandate",
      "execution_count": null,
      "outputs": []
    },
    {
      "cell_type": "markdown",
      "metadata": {
        "papermill": {
          "duration": 0.019733,
          "end_time": "2021-04-30T18:21:22.692382",
          "exception": false,
          "start_time": "2021-04-30T18:21:22.672649",
          "status": "completed"
        },
        "tags": [],
        "id": "global-panama"
      },
      "source": [
        "### Retrieve top N document for the given query string"
      ],
      "id": "global-panama"
    },
    {
      "cell_type": "code",
      "metadata": {
        "execution": {
          "iopub.execute_input": "2021-04-30T18:21:22.737529Z",
          "iopub.status.busy": "2021-04-30T18:21:22.736628Z",
          "iopub.status.idle": "2021-04-30T18:21:22.741196Z",
          "shell.execute_reply": "2021-04-30T18:21:22.740276Z"
        },
        "papermill": {
          "duration": 0.030032,
          "end_time": "2021-04-30T18:21:22.741374",
          "exception": false,
          "start_time": "2021-04-30T18:21:22.711342",
          "status": "completed"
        },
        "tags": [],
        "id": "uniform-toronto"
      },
      "source": [
        "def get_closest_n(query, n):\n",
        "    '''get the top matching docs as per cosine similarity\n",
        "    between tfidf vector of query and all docs'''\n",
        "    query_document = cleaning_pipe(query)\n",
        "    query_bow = dictionary.doc2bow(query_document)\n",
        "    sims = index[tfidf[query_bow]]\n",
        "    top_idx = sims.argsort()[-1*n:][::-1]\n",
        "    return [text_docs[i] for i in top_idx]"
      ],
      "id": "uniform-toronto",
      "execution_count": null,
      "outputs": []
    },
    {
      "cell_type": "code",
      "metadata": {
        "execution": {
          "iopub.execute_input": "2021-04-30T18:21:22.788470Z",
          "iopub.status.busy": "2021-04-30T18:21:22.787756Z",
          "iopub.status.idle": "2021-04-30T18:21:22.802980Z",
          "shell.execute_reply": "2021-04-30T18:21:22.803691Z"
        },
        "papermill": {
          "duration": 0.042635,
          "end_time": "2021-04-30T18:21:22.803872",
          "exception": false,
          "start_time": "2021-04-30T18:21:22.761237",
          "status": "completed"
        },
        "tags": [],
        "colab": {
          "base_uri": "https://localhost:8080/"
        },
        "id": "applied-agriculture",
        "outputId": "863b8d1a-ff69-4055-99c8-75b286bdcfce"
      },
      "source": [
        "for d in get_closest_n(\"What is Data Science\",2):\n",
        "    print(d)"
      ],
      "id": "applied-agriculture",
      "execution_count": null,
      "outputs": [
        {
          "output_type": "stream",
          "text": [
            "Applied Data Science\n",
            "Ian Langmore Daniel Krasner\n",
            "CONTENTS v\n",
            "What is data science? With the major technological advances of the last\n",
            "two decades, coupled in part with the internet explosion, a new breed of\n",
            "analysist has emerged. The exact role, background, and skill-set, of a data\n",
            "scientist are still in the process of being deﬁned and it is likely that by the\n",
            "time you read this some of what we say will seem archaic.\n",
            "In very general terms, we view a data scientist as an individual who uses\n",
            "current computational techniques to analyze data. Now you might make\n",
            "the observation that there is nothing particularly novel in this, and subse-\n",
            "quentyaskwhathasforcedthedeﬁnition.1 Afterallstatisticians,physicists,\n",
            "biologisitcs, ﬁnance quants, etc have been looking at data since their respec-\n",
            "tive ﬁelds emerged. One short answer comes from the fact that the data\n",
            "sphere has changed and, hence, a new set of skills is required to navigate it\n",
            "eﬀectively. The exponential increase in computational power has provided\n",
            "new means to investigate the ever growing amount of data being collected\n",
            "every second of the day. What this implies is the fact that any modern\n",
            "data analyst will have to make the time investment to learn computational\n",
            "techniques necessary to deal with the volumes and complexity of the data\n",
            "of today. In addition to those of mathemics and statistics, these software\n",
            "skills are domain transfereable and so it makes sense to create a job title\n",
            "that is also transferable. We could also point to the “data hype” created in\n",
            "industry as a culprit for the term data science with the science creating an\n",
            "aura of validity and facilitating LinkedIn headhunting.\n",
            "What skills are needed? One neat way we like to visualize the data\n",
            "science skill set is with Drew Conway’s Venn Diagram[Con], see ﬁgure 1.\n",
            "Math and statistics is what allows us to properly quantify a phenomenon\n",
            "observed in data. For the sake of narrative lets take a complex deterministic\n",
            "situation, such as whether or not someone will make a loan payment, and\n",
            "attempt to answer this question with a limited number of variables and an\n",
            "imperfect understanding of those variables inﬂuence on the event we wish to\n",
            "predict. With the exception of your friendly real estate agent we generally\n",
            "acknowldege our lack of soothseer ability and make statements about the\n",
            "probability of this event. These statements take a mathematical form, for\n",
            "example\n",
            "P[makes-loan-payment] = eα+β·creditscore.\n",
            "1William S. Cleveland decide to coin the term data science and write Data Science:\n",
            "An action plan for expanding the technical areas of the ﬁeld of statistics [Cle]. His report\n",
            "outlined six points for a university to follow in developing a data analyst curriculum.\n"
          ],
          "name": "stdout"
        }
      ]
    },
    {
      "cell_type": "code",
      "metadata": {
        "id": "llymLTyhIlPn"
      },
      "source": [
        "import pickle "
      ],
      "id": "llymLTyhIlPn",
      "execution_count": null,
      "outputs": []
    },
    {
      "cell_type": "code",
      "metadata": {
        "id": "2VepLx37J4UM"
      },
      "source": [
        "with open('index.pkl', 'wb') as p:\n",
        "     # serialize class object\n",
        "     pickle.dump(index, p)"
      ],
      "id": "2VepLx37J4UM",
      "execution_count": null,
      "outputs": []
    },
    {
      "cell_type": "code",
      "metadata": {
        "id": "dDgH6ifJKipD"
      },
      "source": [
        "with open('tfidf.pkl', 'wb') as p:\n",
        "     # serialize class object\n",
        "     pickle.dump(tfidf, p)\n",
        "     "
      ],
      "id": "dDgH6ifJKipD",
      "execution_count": null,
      "outputs": []
    },
    {
      "cell_type": "code",
      "metadata": {
        "id": "_m-6xcO_KbfP"
      },
      "source": [
        "with open('bow_corpus.pkl', 'wb') as p:\n",
        "     # serialize class object\n",
        "     pickle.dump(bow_corpus, p)\n",
        "     "
      ],
      "id": "_m-6xcO_KbfP",
      "execution_count": null,
      "outputs": []
    },
    {
      "cell_type": "code",
      "metadata": {
        "id": "fPpSJ-EQKzaJ"
      },
      "source": [
        ""
      ],
      "id": "fPpSJ-EQKzaJ",
      "execution_count": null,
      "outputs": []
    }
  ]
}